{
  "nbformat": 4,
  "nbformat_minor": 0,
  "metadata": {
    "colab": {
      "provenance": []
    },
    "kernelspec": {
      "name": "python3",
      "display_name": "Python 3"
    },
    "language_info": {
      "name": "python"
    }
  },
  "cells": [
    {
      "cell_type": "markdown",
      "source": [
        "#Project Proposal\n",
        "In this project I will use the Titanic - Machine Learning from Disaster dataset from Kaggle to predict the survival of passengers aboard the Titanic. The dataset includes features such as age, gender, ticket class, fare, and port of embarkation. The goal is to classify passengers into two categories: survived or did not survive. I will use Logistic Regression and maybe a Random Forest to perform the classification task and compare their performance. Here is the link to the dataset: https://www.kaggle.com/competitions/titanic/data"
      ],
      "metadata": {
        "id": "RcMcAY5QLCm3"
      }
    }
  ]
}